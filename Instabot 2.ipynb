{
 "cells": [
  {
   "cell_type": "markdown",
   "metadata": {},
   "source": [
    "### Now your friend has followed a lot of different food bloggers, he needs to analyse the habits of these bloggers.\n"
   ]
  },
  {
   "cell_type": "markdown",
   "metadata": {},
   "source": [
    "1.From the list of instagram handles you obtained when you searched ‘food’ in previous project. \n",
    "Open the first 10 handles and find the top 5 which have the highest number of followers\n"
   ]
  },
  {
   "cell_type": "markdown",
   "metadata": {},
   "source": [
    "2.Now Find the number of posts these handles have done in the previous 3 days.\n"
   ]
  },
  {
   "cell_type": "markdown",
   "metadata": {},
   "source": [
    "3.Depict this information using a suitable graph."
   ]
  },
  {
   "cell_type": "raw",
   "metadata": {},
   "source": [
    "Your friend also needs a list of hashtags that he should use in his posts.\n",
    "Open the 5 handles you obtained in the last question, and scrape the content of the first 10 posts of each handle.\n",
    "Prepare a list of all words used in all the scraped posts and calculate the frequency of each word.\n",
    "Create a csv file with two columns : the word and its frequency\n",
    "Now, find the hashtags that were most popular among these bloggers\n",
    "Plot a Pie Chart of the top 5 hashtags obtained and the number of times they were used by these bloggers in the scraped posts.\n",
    "You need to also calculate average followers : likes ratio for the obtained handles.\n",
    "Followers : Likes ratio is calculated as follows:\n",
    "Find out the likes of the top 10 posts of the 5 handles obtained earlier.\n",
    "Calculate the average likes for a handle.\n",
    "Divide the average likes obtained from the number of followers of the handle to get the average followers:like ratio of each handle.\n",
    "Create a bar graph to depict the above obtained information."
   ]
  },
  {
   "cell_type": "code",
   "execution_count": 1,
   "metadata": {},
   "outputs": [],
   "source": [
    "from selenium import webdriver\n",
    "from selenium.webdriver.common.keys import Keys\n",
    "from selenium.common.exceptions import NoSuchElementException\n",
    "import time\n",
    "from bs4 import BeautifulSoup\n",
    "from selenium import webdriver\n",
    "import matplotlib.pyplot as plt\n",
    "import pandas as pd\n",
    "import numpy as np\n",
    "from selenium.webdriver.support import expected_conditions as EC\n",
    "from selenium.webdriver.common.by import By\n",
    "from selenium.webdriver.support.select import Select\n",
    "driver=webdriver.Chrome(executable_path=\"chromedriver\")  \n",
    "driver.get(\"https://www.instagram.com/\")"
   ]
  },
  {
   "cell_type": "code",
   "execution_count": 2,
   "metadata": {},
   "outputs": [],
   "source": [
    "from selenium.webdriver.support.ui import WebDriverWait\n",
    "\n",
    "username=driver.find_element_by_name(\"username\")\n",
    "username.send_keys(\"darkdoll_cyberspace\")    ## here replace sample by your user-name\n",
    "\n",
    "password=driver.find_element_by_name(\"password\")\n",
    "password.send_keys(\"insta@123\")   ### here replace sample by your password\n",
    "\n",
    "### clicking on submit button\n",
    "\n",
    "\n",
    "password.submit()\n",
    "\n",
    "\n",
    "\n",
    "time.sleep(6)\n",
    "\n",
    "# to handle notifications pop-up(may depend on individual id)\n",
    "\n",
    "wait = WebDriverWait(driver, 5) \n",
    "\n",
    "# sqdOP  L3NKy   y3zKF    \n",
    "press_not_now= driver.find_element_by_class_name('sqdOP.yWX7d.y3zKF')\n",
    "press_not_now.click()\n",
    "\n",
    "wait = WebDriverWait(driver, 5) \n",
    "\n",
    "notification=driver.find_element_by_class_name('mt3GC')\n",
    "notification.click()\n"
   ]
  },
  {
   "cell_type": "code",
   "execution_count": 3,
   "metadata": {},
   "outputs": [],
   "source": [
    "search_click=driver.find_element_by_class_name('TqC_a')\n",
    "search_click.click()\n",
    "time.sleep(2)\n",
    "search=driver.find_element_by_class_name('x3qfX')\n",
    "search.send_keys('food')\n",
    "time.sleep(2)"
   ]
  },
  {
   "cell_type": "code",
   "execution_count": 5,
   "metadata": {},
   "outputs": [
    {
     "data": {
      "text/plain": [
       "['delhifoodguide',\n",
       " 'yourfoodlab',\n",
       " 'odia_food',\n",
       " 'ndtv_food',\n",
       " 'bongeats',\n",
       " 'foodtalkindia',\n",
       " 'food',\n",
       " 'delhifoodwalks',\n",
       " 'food_o_pedia_',\n",
       " 'foodlamour',\n",
       " 'food_gambler',\n",
       " 'foodgod',\n",
       " 'foodinsider',\n",
       " 'meghnasfoodmagic',\n",
       " 'kolkatalittlethings',\n",
       " 'sinful_foodie',\n",
       " 'foodpandaindia',\n",
       " 'foodelhi',\n",
       " 'foodporn',\n",
       " 'food_belly11',\n",
       " 'foodies_freak',\n",
       " 'kolkatafoodie',\n",
       " 'food_and_apetite',\n",
       " 'indiainsiders',\n",
       " 'tehranfastfoods',\n",
       " 'tashasartisanfoods',\n",
       " 'my_foodstory',\n",
       " 'buzzfeedfood',\n",
       " 'foodiehot_bazaar',\n",
       " 'mumbaifoodie',\n",
       " 'foodiesince96',\n",
       " 'kolkatasutrafood',\n",
       " 'kolkatarito',\n",
       " 'therapyfoodgal',\n",
       " 'foodpicasso10',\n",
       " 'Food Street',\n",
       " 'holybelly_foodboutique',\n",
       " '__food_it__',\n",
       " 'karanfoodfanatic',\n",
       " 'food_gasms1',\n",
       " '_food.and.the.city_',\n",
       " 'Food Mini',\n",
       " 'thegreatindianfoodie',\n",
       " 'dogs_infood',\n",
       " 'food___blogger6',\n",
       " 'expedition.food',\n",
       " 'salonikukreja',\n",
       " 'food_block0',\n",
       " 'bestfood_aroundtheworld',\n",
       " 'Food Mini']"
      ]
     },
     "execution_count": 5,
     "metadata": {},
     "output_type": "execute_result"
    }
   ],
   "source": [
    "from bs4 import BeautifulSoup as bs\n",
    "# same as Instabot 1\n",
    "response=bs(driver.page_source,'lxml')\n",
    "time.sleep(1)\n",
    "lst=response.find_all(class_='Ap253')\n",
    "usernames=[]\n",
    "for i in lst:\n",
    "    if '#' in i.string:\n",
    "        continue\n",
    "    else:\n",
    "        usernames.append(i.string)\n",
    "time.sleep(4)\n",
    "usernames"
   ]
  },
  {
   "cell_type": "code",
   "execution_count": 6,
   "metadata": {},
   "outputs": [],
   "source": [
    "# taking 10 names\n",
    "usernames=usernames[:11]\n",
    "ursernames=usernames.remove('food')"
   ]
  },
  {
   "cell_type": "code",
   "execution_count": 33,
   "metadata": {},
   "outputs": [
    {
     "data": {
      "text/plain": [
       "[104030, 1508391, 78228, 99378, 58008, 303116, 130927, 5734, 17910, 107770]"
      ]
     },
     "execution_count": 33,
     "metadata": {},
     "output_type": "execute_result"
    }
   ],
   "source": [
    "\n",
    "followers_count=[]\n",
    "for i in usernames:\n",
    "    try:\n",
    "        driver.get('https://www.instagram.com/')\n",
    "        time.sleep(4)\n",
    "        search_click=driver.find_element_by_class_name('TqC_a')\n",
    "        search_click.click()\n",
    "        time.sleep(2)\n",
    "        search=driver.find_element_by_class_name('x3qfX')\n",
    "        search.send_keys(i)\n",
    "        time.sleep(5)\n",
    "        driver.execute_script('document.getElementsByClassName(\"fuqBx\")[0].scrollTo(0, 50);')\n",
    "        so=driver.find_element_by_partial_link_text(i)\n",
    "        so.click()\n",
    "        time.sleep(3)\n",
    "        followers=wait.until(EC.presence_of_element_located((By.XPATH,'//a[@class=\"-nal3 \"]/span[@class=\"g47SY \"]')))\n",
    "   \n",
    "        k=followers.get_attribute('title')\n",
    "        if \",\" in k:\n",
    "            k=k.replace(\",\",\"\")\n",
    "        followers_count.append(int(k))\n",
    "    except TimeoutException:\n",
    "        pass\n",
    "followers_count\n",
    "testfollow=[]\n",
    "for m in followers_count:\n",
    "    testfollow.append(m)\n",
    "testfollow"
   ]
  },
  {
   "cell_type": "code",
   "execution_count": 34,
   "metadata": {},
   "outputs": [
    {
     "data": {
      "text/plain": [
       "[104030, 1508391, 78228, 99378, 58008, 303116, 130927, 5734, 17910, 107770]"
      ]
     },
     "execution_count": 34,
     "metadata": {},
     "output_type": "execute_result"
    }
   ],
   "source": [
    "\n",
    "gett=followers_count\n",
    "gett"
   ]
  },
  {
   "cell_type": "code",
   "execution_count": 35,
   "metadata": {},
   "outputs": [],
   "source": [
    "testfollow=[3596819,3763267,10280357,2644303,3352572,31458,362,7016888,2183759,13748]"
   ]
  },
  {
   "cell_type": "code",
   "execution_count": 36,
   "metadata": {},
   "outputs": [
    {
     "data": {
      "text/plain": [
       "{'delhifoodguide': 104030,\n",
       " 'yourfoodlab': 1508391,\n",
       " 'odia_food': 78228,\n",
       " 'ndtv_food': 99378,\n",
       " 'bongeats': 58008,\n",
       " 'foodtalkindia': 303116,\n",
       " 'delhifoodwalks': 130927,\n",
       " 'food_o_pedia_': 5734,\n",
       " 'foodlamour': 17910,\n",
       " 'food_gambler': 107770}"
      ]
     },
     "execution_count": 36,
     "metadata": {},
     "output_type": "execute_result"
    }
   ],
   "source": [
    "\n",
    "#making a dictionary of usernames and their followers \n",
    "add=followers_count\n",
    "ans=dict()\n",
    "for key in usernames:\n",
    "    for value in add:\n",
    "        ans[key]=value\n",
    "        add.remove(value)\n",
    "        break\n",
    "ans"
   ]
  },
  {
   "cell_type": "code",
   "execution_count": 37,
   "metadata": {},
   "outputs": [
    {
     "name": "stdout",
     "output_type": "stream",
     "text": [
      "highest number of followers Top 5 handels\n",
      "\n",
      "yourfoodlab : 1508391\n",
      "foodtalkindia : 303116\n",
      "delhifoodwalks : 130927\n",
      "food_gambler : 107770\n",
      "delhifoodguide : 104030\n"
     ]
    },
    {
     "data": {
      "text/plain": [
       "[1508391, 303116, 130927, 107770, 104030]"
      ]
     },
     "execution_count": 37,
     "metadata": {},
     "output_type": "execute_result"
    }
   ],
   "source": [
    "sort_ans=sorted(ans.items(),key=lambda kv:kv[1],reverse=True)[:5]\n",
    "print(\"highest number of followers Top 5 handels\")\n",
    "print()\n",
    "famous5=[] \n",
    "famous5follow=[]\n",
    "for i in sort_ans:\n",
    "    print(i[0],\":\",i[1])\n",
    "    famous5.append(i[0])\n",
    "    famous5follow.append(i[1])\n",
    "famous5\n",
    "famous5follow"
   ]
  },
  {
   "cell_type": "code",
   "execution_count": 38,
   "metadata": {},
   "outputs": [
    {
     "name": "stdout",
     "output_type": "stream",
     "text": [
      "yourfoodlab have done 4 posts in past 3 days\n",
      "foodtalkindia have done 4 posts in past 3 days\n",
      "delhifoodwalks have done 4 posts in past 3 days\n",
      "food_gambler have done 8 posts in past 3 days\n",
      "delhifoodguide have done 0 posts in past 3 days\n"
     ]
    },
    {
     "data": {
      "text/plain": [
       "[4, 4, 4, 8, 0]"
      ]
     },
     "execution_count": 38,
     "metadata": {},
     "output_type": "execute_result"
    }
   ],
   "source": [
    "no_of_posts=[]\n",
    "for i in famous5:\n",
    "    first_run = True\n",
    "    driver.get('https://www.instagram.com/')\n",
    "    time.sleep(5)\n",
    "    search_click=driver.find_element_by_class_name('TqC_a')\n",
    "    search_click.click()\n",
    "    time.sleep(5)\n",
    "    search=driver.find_element_by_class_name('x3qfX')\n",
    "    search.send_keys(i)\n",
    "    time.sleep(5)\n",
    "    driver.execute_script('document.getElementsByClassName(\"fuqBx\")[0].scrollTo(0, 50);')\n",
    "    so=driver.find_element_by_partial_link_text(i)\n",
    "    so.click()\n",
    "    time.sleep(5)\n",
    "    count=0\n",
    "    \n",
    "    time.sleep(5)\n",
    "    post_data = driver.find_elements_by_xpath('//a/div[@class=\"eLAPa\"]')\n",
    "    for j in post_data:\n",
    "        \n",
    "        time.sleep(10)\n",
    "        if first_run:    \n",
    "            j.click()\n",
    "            first_run = False\n",
    "        wait.until(EC.presence_of_element_located((By.XPATH, '//time[contains(@class, \"Nzb55\")]')))\n",
    "        timer=driver.find_element_by_xpath('//a/time[contains(@class,\"_1o9PC\")]')\n",
    "        time_string=timer.text\n",
    "        if \"HOURS\" in time_string or \"HOUR\" in time_string:\n",
    "            count+=1\n",
    "        elif \"MINUTES\" in time_string or \"MINUTE\" in time_string:\n",
    "            count+=1\n",
    "        elif time_string==\"1 DAY AGO\":\n",
    "            count+=1\n",
    "        elif time_string==\"2 DAYS AGO\":\n",
    "            count+=1\n",
    "        elif time_string==\"3 DAYS AGO\":\n",
    "            count+=1\n",
    "        else:\n",
    "            break\n",
    "        time.sleep(5)\n",
    "        next_post=driver.find_element_by_xpath('//a[contains(@class,\"_65Bje \")]')\n",
    "        time.sleep(5)\n",
    "        next_post.click()\n",
    "        time.sleep(5)\n",
    "    print(i, count, \"posts in past 3 days\")\n",
    "    no_of_posts.append(count)\n",
    "no_of_posts"
   ]
  },
  {
   "cell_type": "code",
   "execution_count": 39,
   "metadata": {},
   "outputs": [
    {
     "data": {
      "text/plain": [
       "['delhifoodguide',\n",
       " 'yourfoodlab',\n",
       " 'odia_food',\n",
       " 'ndtv_food',\n",
       " 'bongeats',\n",
       " 'foodtalkindia',\n",
       " 'delhifoodwalks',\n",
       " 'food_o_pedia_',\n",
       " 'foodlamour',\n",
       " 'food_gambler']"
      ]
     },
     "execution_count": 39,
     "metadata": {},
     "output_type": "execute_result"
    }
   ],
   "source": [
    "usernames"
   ]
  },
  {
   "cell_type": "code",
   "execution_count": 50,
   "metadata": {},
   "outputs": [
    {
     "data": {
      "image/png": "[encoded data removed]",
      "text/plain": [
       "<Figure size 432x288 with 1 Axes>"
      ]
     },
     "metadata": {
      "needs_background": "light"
     },
     "output_type": "display_data"
    }
   ],
   "source": [
    "#plotting a graph between those 10 users and the number of followers\n",
    "from matplotlib.pyplot import figure\n",
    "plt.xticks(rotation=45)\n",
    "plt.bar(usernames,height=testfollow)\n",
    "plt.title('Users versus number of followers')\n",
    "plt.xlabel('users')\n",
    "plt.ylabel('followers')\n",
    "plt.show()"
   ]
  },
  {
   "cell_type": "code",
   "execution_count": 51,
   "metadata": {},
   "outputs": [
    {
     "data": {
      "image/png": "[encoded data removed]",
      "text/plain": [
       "<Figure size 432x288 with 1 Axes>"
      ]
     },
     "metadata": {
      "needs_background": "light"
     },
     "output_type": "display_data"
    }
   ],
   "source": [
    "#graph between top 5 users and the number of posts\n",
    "from matplotlib.pyplot import figure\n",
    "plt.figure(num=None, edgecolor='k')\n",
    "plt.bar(famous5,no_of_posts)\n",
    "plt.xticks(rotation=45, size=12)\n",
    "plt.yticks(size=12)\n",
    "plt.title('Users versus number of posts')\n",
    "plt.xlabel('users')\n",
    "plt.ylabel('number of posts')\n",
    "plt.grid()\n",
    "plt.show()"
   ]
  },
  {
   "cell_type": "code",
   "execution_count": 17,
   "metadata": {},
   "outputs": [
    {
     "name": "stdout",
     "output_type": "stream",
     "text": [
      "#recipe\n",
      "#foodie\n",
      "#chicken\n",
      "#chickenrecipes\n",
      "#chicken65\n",
      "#chickendinner\n",
      "#mumbai\n",
      "#chickensofinstagram\n",
      "#chickendry\n",
      "#sanjyotkeer\n",
      "#recipe\n",
      "#foodie\n",
      "#foodporn\n",
      "#foodstagram\n",
      "#foodphotography\n",
      "#foodstylist\n",
      "#foodiesofinstagram\n",
      "#recipes\n",
      "#food\n",
      "#foodie\n",
      "#foodporn\n",
      "#streetfood\n",
      "#mumbaifoodie\n",
      "#mumbaistreetfood\n",
      "#indian\n",
      "#fusionfood\n",
      "#fusionfood\n",
      "#streetsofindia\n",
      "#sanjyotkeer\n",
      "#recipe\n",
      "#foodie\n",
      "#foodporn\n",
      "#foodstagram\n",
      "#foodphotography\n",
      "#foodstylist\n",
      "#foodiesofinstagram\n",
      "#MorphyRichards\n",
      "#ultimatechristmaschallenge\n",
      "#recipe\n",
      "#foodiesofinstagram\n",
      "#frankie\n",
      "#streetfood\n",
      "#foodporn\n",
      "#sanjyotkeer\n",
      "#recipe\n",
      "#gajarkahalwa\n",
      "#gajarhalwa\n",
      "#foodie\n",
      "#foodporn\n",
      "#foodstylist\n",
      "#winteriscoming\n",
      "#winterfood\n",
      "#dessert\n",
      "#dessertsofinstagram\n",
      "#sanjyotkeer\n",
      "#dessertlover\n",
      "#sizzler\n",
      "#food\n",
      "#foodporn\n",
      "#streetfood\n",
      "#indiancuisine\n",
      "#streetphotography\n",
      "#videography\n",
      "#foodie\n",
      "#foodstagram\n",
      "#foodblogger\n",
      "#foodiesofinstagram\n",
      "#recipe\n",
      "#gajarkahalwa\n",
      "#gajarhalwa\n",
      "#foodie\n",
      "#foodporn\n",
      "#foodstylist\n",
      "#winteriscoming\n",
      "#winterfood\n",
      "#dessert\n",
      "#dessertsofinstagram\n",
      "#sanjyotkeer\n",
      "#dessertlover\n",
      "#recipeoftheday\n",
      "#foodporn\n",
      "#ricebowl\n",
      "#ricerecipes\n",
      "#foodphotography\n",
      "#streetfood\n",
      "#streetstyle\n",
      "#foodporn\n",
      "#foodstagram\n",
      "#mumbaifoodie\n"
     ]
    },
    {
     "ename": "NameError",
     "evalue": "name 'TimeoutException' is not defined",
     "output_type": "error",
     "traceback": [
      "\u001b[1;31m---------------------------------------------------------------------------\u001b[0m",
      "\u001b[1;31mTimeoutException\u001b[0m                          Traceback (most recent call last)",
      "\u001b[1;32m<ipython-input-17-0c47a8c25d64>\u001b[0m in \u001b[0;36m<module>\u001b[1;34m\u001b[0m\n\u001b[0;32m     31\u001b[0m \u001b[1;33m\u001b[0m\u001b[0m\n\u001b[1;32m---> 32\u001b[1;33m             \u001b[0mwait\u001b[0m\u001b[1;33m.\u001b[0m\u001b[0muntil\u001b[0m\u001b[1;33m(\u001b[0m\u001b[0mEC\u001b[0m\u001b[1;33m.\u001b[0m\u001b[0mpresence_of_element_located\u001b[0m\u001b[1;33m(\u001b[0m\u001b[1;33m(\u001b[0m\u001b[0mBy\u001b[0m\u001b[1;33m.\u001b[0m\u001b[0mXPATH\u001b[0m\u001b[1;33m,\u001b[0m \u001b[1;34m'//a[contains(@class, \" xil3i\")]'\u001b[0m\u001b[1;33m)\u001b[0m\u001b[1;33m)\u001b[0m\u001b[1;33m)\u001b[0m\u001b[1;33m\u001b[0m\u001b[1;33m\u001b[0m\u001b[0m\n\u001b[0m\u001b[0;32m     33\u001b[0m             \u001b[0mtest_data\u001b[0m\u001b[1;33m=\u001b[0m\u001b[0mdriver\u001b[0m\u001b[1;33m.\u001b[0m\u001b[0mfind_elements_by_xpath\u001b[0m\u001b[1;33m(\u001b[0m\u001b[1;34m'//a[contains(@class, \" xil3i\")]'\u001b[0m\u001b[1;33m)\u001b[0m\u001b[1;33m\u001b[0m\u001b[1;33m\u001b[0m\u001b[0m\n",
      "\u001b[1;32mC:\\ProgramData\\Anaconda3\\lib\\site-packages\\selenium\\webdriver\\support\\wait.py\u001b[0m in \u001b[0;36muntil\u001b[1;34m(self, method, message)\u001b[0m\n\u001b[0;32m     79\u001b[0m                 \u001b[1;32mbreak\u001b[0m\u001b[1;33m\u001b[0m\u001b[1;33m\u001b[0m\u001b[0m\n\u001b[1;32m---> 80\u001b[1;33m         \u001b[1;32mraise\u001b[0m \u001b[0mTimeoutException\u001b[0m\u001b[1;33m(\u001b[0m\u001b[0mmessage\u001b[0m\u001b[1;33m,\u001b[0m \u001b[0mscreen\u001b[0m\u001b[1;33m,\u001b[0m \u001b[0mstacktrace\u001b[0m\u001b[1;33m)\u001b[0m\u001b[1;33m\u001b[0m\u001b[1;33m\u001b[0m\u001b[0m\n\u001b[0m\u001b[0;32m     81\u001b[0m \u001b[1;33m\u001b[0m\u001b[0m\n",
      "\u001b[1;31mTimeoutException\u001b[0m: Message: \n",
      "\nDuring handling of the above exception, another exception occurred:\n",
      "\u001b[1;31mNameError\u001b[0m                                 Traceback (most recent call last)",
      "\u001b[1;32m<ipython-input-17-0c47a8c25d64>\u001b[0m in \u001b[0;36m<module>\u001b[1;34m\u001b[0m\n\u001b[0;32m     36\u001b[0m                 \u001b[0mdata\u001b[0m\u001b[1;33m.\u001b[0m\u001b[0mappend\u001b[0m\u001b[1;33m(\u001b[0m\u001b[0mk\u001b[0m\u001b[1;33m.\u001b[0m\u001b[0mtext\u001b[0m\u001b[1;33m)\u001b[0m\u001b[1;33m\u001b[0m\u001b[1;33m\u001b[0m\u001b[0m\n\u001b[0;32m     37\u001b[0m             \u001b[0mcounter\u001b[0m\u001b[1;33m+=\u001b[0m\u001b[1;36m1\u001b[0m\u001b[1;33m\u001b[0m\u001b[1;33m\u001b[0m\u001b[0m\n\u001b[1;32m---> 38\u001b[1;33m         \u001b[1;32mexcept\u001b[0m \u001b[0mTimeoutException\u001b[0m\u001b[1;33m:\u001b[0m\u001b[1;33m\u001b[0m\u001b[1;33m\u001b[0m\u001b[0m\n\u001b[0m\u001b[0;32m     39\u001b[0m             \u001b[1;32mpass\u001b[0m\u001b[1;33m\u001b[0m\u001b[1;33m\u001b[0m\u001b[0m\n\u001b[0;32m     40\u001b[0m \u001b[1;33m\u001b[0m\u001b[0m\n",
      "\u001b[1;31mNameError\u001b[0m: name 'TimeoutException' is not defined"
     ]
    }
   ],
   "source": [
    "time.sleep(3)\n",
    "data=[]\n",
    "for i in famous5:\n",
    "    first_run = True\n",
    "    driver.get('https://www.instagram.com/')\n",
    "    time.sleep(4)\n",
    "    search_click=driver.find_element_by_class_name('TqC_a')\n",
    "    search_click.click()\n",
    "    time.sleep(2)\n",
    "    search=driver.find_element_by_class_name('x3qfX')\n",
    "    search.send_keys(i)\n",
    "    time.sleep(5)\n",
    "    driver.execute_script('document.getElementsByClassName(\"fuqBx\")[0].scrollTo(0, 50);')\n",
    "    so=driver.find_element_by_partial_link_text(i)\n",
    "    so.click()\n",
    "    time.sleep(3)\n",
    "    counter=0\n",
    "    \n",
    "    time.sleep(3)\n",
    "    post_data = driver.find_elements_by_xpath('//a/div[@class=\"eLAPa\"]')\n",
    "    for j in post_data:\n",
    "        if counter==10:\n",
    "            counter=0\n",
    "            break\n",
    "        \n",
    "        time.sleep(7)\n",
    "        if first_run:    \n",
    "            j.click()\n",
    "            first_run = False\n",
    "        try:\n",
    "            \n",
    "            wait.until(EC.presence_of_element_located((By.XPATH, '//a[contains(@class, \" xil3i\")]')))\n",
    "            test_data=driver.find_elements_by_xpath('//a[contains(@class, \" xil3i\")]')\n",
    "            for k in test_data:\n",
    "                print(k.text)\n",
    "                data.append(k.text)\n",
    "            counter+=1\n",
    "        except TimeoutException:\n",
    "            pass\n",
    "        \n",
    "        time.sleep(3)\n",
    "        next_post=driver.find_element_by_xpath('//a[contains(@class,\"_65Bje \")]')\n",
    "        time.sleep(3)\n",
    "        next_post.click()\n",
    "        time.sleep(3)\n",
    "        \n",
    "data"
   ]
  },
  {
   "cell_type": "code",
   "execution_count": 18,
   "metadata": {},
   "outputs": [
    {
     "data": {
      "text/plain": [
       "{'recipe': 6,\n",
       " 'foodie': 7,\n",
       " 'chicken': 1,\n",
       " 'chickenrecipes': 1,\n",
       " 'chicken65': 1,\n",
       " 'chickendinner': 1,\n",
       " 'mumbai': 1,\n",
       " 'chickensofinstagram': 1,\n",
       " 'chickendry': 1,\n",
       " 'sanjyotkeer': 5,\n",
       " 'foodporn': 9,\n",
       " 'foodstagram': 4,\n",
       " 'foodphotography': 3,\n",
       " 'foodstylist': 4,\n",
       " 'foodiesofinstagram': 4,\n",
       " 'recipes': 1,\n",
       " 'food': 2,\n",
       " 'streetfood': 4,\n",
       " 'mumbaifoodie': 2,\n",
       " 'mumbaistreetfood': 1,\n",
       " 'indian': 1,\n",
       " 'fusionfood': 2,\n",
       " 'streetsofindia': 1,\n",
       " 'MorphyRichards': 1,\n",
       " 'ultimatechristmaschallenge': 1,\n",
       " 'frankie': 1,\n",
       " 'gajarkahalwa': 2,\n",
       " 'gajarhalwa': 2,\n",
       " 'winteriscoming': 2,\n",
       " 'winterfood': 2,\n",
       " 'dessert': 2,\n",
       " 'dessertsofinstagram': 2,\n",
       " 'dessertlover': 2,\n",
       " 'sizzler': 1,\n",
       " 'indiancuisine': 1,\n",
       " 'streetphotography': 1,\n",
       " 'videography': 1,\n",
       " 'foodblogger': 1,\n",
       " 'recipeoftheday': 1,\n",
       " 'ricebowl': 1,\n",
       " 'ricerecipes': 1,\n",
       " 'streetstyle': 1}"
      ]
     },
     "execution_count": 18,
     "metadata": {},
     "output_type": "execute_result"
    }
   ],
   "source": [
    "word_dic=dict()\n",
    "for i in data:\n",
    "    k=i[1:]\n",
    "    if k in word_dic:\n",
    "        word_dic[k]+=1\n",
    "    else:\n",
    "        word_dic[k]=1\n",
    "word_dic"
   ]
  },
  {
   "cell_type": "code",
   "execution_count": 45,
   "metadata": {},
   "outputs": [
    {
     "data": {
      "text/html": [
       "<div>\n",
       "<style scoped>\n",
       "    .dataframe tbody tr th:only-of-type {\n",
       "        vertical-align: middle;\n",
       "    }\n",
       "\n",
       "    .dataframe tbody tr th {\n",
       "        vertical-align: top;\n",
       "    }\n",
       "\n",
       "    .dataframe thead th {\n",
       "        text-align: right;\n",
       "    }\n",
       "</style>\n",
       "<table border=\"1\" class=\"dataframe\">\n",
       "  <thead>\n",
       "    <tr style=\"text-align: right;\">\n",
       "      <th></th>\n",
       "      <th>Words</th>\n",
       "      <th>Frequency</th>\n",
       "    </tr>\n",
       "  </thead>\n",
       "  <tbody>\n",
       "    <tr>\n",
       "      <th>0</th>\n",
       "      <td>recipe</td>\n",
       "      <td>6</td>\n",
       "    </tr>\n",
       "    <tr>\n",
       "      <th>1</th>\n",
       "      <td>foodie</td>\n",
       "      <td>7</td>\n",
       "    </tr>\n",
       "    <tr>\n",
       "      <th>2</th>\n",
       "      <td>chicken</td>\n",
       "      <td>1</td>\n",
       "    </tr>\n",
       "    <tr>\n",
       "      <th>3</th>\n",
       "      <td>chickenrecipes</td>\n",
       "      <td>1</td>\n",
       "    </tr>\n",
       "    <tr>\n",
       "      <th>4</th>\n",
       "      <td>chicken65</td>\n",
       "      <td>1</td>\n",
       "    </tr>\n",
       "    <tr>\n",
       "      <th>5</th>\n",
       "      <td>chickendinner</td>\n",
       "      <td>1</td>\n",
       "    </tr>\n",
       "    <tr>\n",
       "      <th>6</th>\n",
       "      <td>mumbai</td>\n",
       "      <td>1</td>\n",
       "    </tr>\n",
       "    <tr>\n",
       "      <th>7</th>\n",
       "      <td>chickensofinstagram</td>\n",
       "      <td>1</td>\n",
       "    </tr>\n",
       "    <tr>\n",
       "      <th>8</th>\n",
       "      <td>chickendry</td>\n",
       "      <td>1</td>\n",
       "    </tr>\n",
       "    <tr>\n",
       "      <th>9</th>\n",
       "      <td>sanjyotkeer</td>\n",
       "      <td>5</td>\n",
       "    </tr>\n",
       "    <tr>\n",
       "      <th>10</th>\n",
       "      <td>foodporn</td>\n",
       "      <td>9</td>\n",
       "    </tr>\n",
       "    <tr>\n",
       "      <th>11</th>\n",
       "      <td>foodstagram</td>\n",
       "      <td>4</td>\n",
       "    </tr>\n",
       "    <tr>\n",
       "      <th>12</th>\n",
       "      <td>foodphotography</td>\n",
       "      <td>3</td>\n",
       "    </tr>\n",
       "    <tr>\n",
       "      <th>13</th>\n",
       "      <td>foodstylist</td>\n",
       "      <td>4</td>\n",
       "    </tr>\n",
       "    <tr>\n",
       "      <th>14</th>\n",
       "      <td>foodiesofinstagram</td>\n",
       "      <td>4</td>\n",
       "    </tr>\n",
       "    <tr>\n",
       "      <th>15</th>\n",
       "      <td>recipes</td>\n",
       "      <td>1</td>\n",
       "    </tr>\n",
       "    <tr>\n",
       "      <th>16</th>\n",
       "      <td>food</td>\n",
       "      <td>2</td>\n",
       "    </tr>\n",
       "    <tr>\n",
       "      <th>17</th>\n",
       "      <td>streetfood</td>\n",
       "      <td>4</td>\n",
       "    </tr>\n",
       "    <tr>\n",
       "      <th>18</th>\n",
       "      <td>mumbaifoodie</td>\n",
       "      <td>2</td>\n",
       "    </tr>\n",
       "    <tr>\n",
       "      <th>19</th>\n",
       "      <td>mumbaistreetfood</td>\n",
       "      <td>1</td>\n",
       "    </tr>\n",
       "    <tr>\n",
       "      <th>20</th>\n",
       "      <td>indian</td>\n",
       "      <td>1</td>\n",
       "    </tr>\n",
       "    <tr>\n",
       "      <th>21</th>\n",
       "      <td>fusionfood</td>\n",
       "      <td>2</td>\n",
       "    </tr>\n",
       "    <tr>\n",
       "      <th>22</th>\n",
       "      <td>streetsofindia</td>\n",
       "      <td>1</td>\n",
       "    </tr>\n",
       "    <tr>\n",
       "      <th>23</th>\n",
       "      <td>MorphyRichards</td>\n",
       "      <td>1</td>\n",
       "    </tr>\n",
       "    <tr>\n",
       "      <th>24</th>\n",
       "      <td>ultimatechristmaschallenge</td>\n",
       "      <td>1</td>\n",
       "    </tr>\n",
       "    <tr>\n",
       "      <th>25</th>\n",
       "      <td>frankie</td>\n",
       "      <td>1</td>\n",
       "    </tr>\n",
       "    <tr>\n",
       "      <th>26</th>\n",
       "      <td>gajarkahalwa</td>\n",
       "      <td>2</td>\n",
       "    </tr>\n",
       "    <tr>\n",
       "      <th>27</th>\n",
       "      <td>gajarhalwa</td>\n",
       "      <td>2</td>\n",
       "    </tr>\n",
       "    <tr>\n",
       "      <th>28</th>\n",
       "      <td>winteriscoming</td>\n",
       "      <td>2</td>\n",
       "    </tr>\n",
       "    <tr>\n",
       "      <th>29</th>\n",
       "      <td>winterfood</td>\n",
       "      <td>2</td>\n",
       "    </tr>\n",
       "    <tr>\n",
       "      <th>30</th>\n",
       "      <td>dessert</td>\n",
       "      <td>2</td>\n",
       "    </tr>\n",
       "    <tr>\n",
       "      <th>31</th>\n",
       "      <td>dessertsofinstagram</td>\n",
       "      <td>2</td>\n",
       "    </tr>\n",
       "    <tr>\n",
       "      <th>32</th>\n",
       "      <td>dessertlover</td>\n",
       "      <td>2</td>\n",
       "    </tr>\n",
       "    <tr>\n",
       "      <th>33</th>\n",
       "      <td>sizzler</td>\n",
       "      <td>1</td>\n",
       "    </tr>\n",
       "    <tr>\n",
       "      <th>34</th>\n",
       "      <td>indiancuisine</td>\n",
       "      <td>1</td>\n",
       "    </tr>\n",
       "    <tr>\n",
       "      <th>35</th>\n",
       "      <td>streetphotography</td>\n",
       "      <td>1</td>\n",
       "    </tr>\n",
       "    <tr>\n",
       "      <th>36</th>\n",
       "      <td>videography</td>\n",
       "      <td>1</td>\n",
       "    </tr>\n",
       "    <tr>\n",
       "      <th>37</th>\n",
       "      <td>foodblogger</td>\n",
       "      <td>1</td>\n",
       "    </tr>\n",
       "    <tr>\n",
       "      <th>38</th>\n",
       "      <td>recipeoftheday</td>\n",
       "      <td>1</td>\n",
       "    </tr>\n",
       "    <tr>\n",
       "      <th>39</th>\n",
       "      <td>ricebowl</td>\n",
       "      <td>1</td>\n",
       "    </tr>\n",
       "    <tr>\n",
       "      <th>40</th>\n",
       "      <td>ricerecipes</td>\n",
       "      <td>1</td>\n",
       "    </tr>\n",
       "    <tr>\n",
       "      <th>41</th>\n",
       "      <td>streetstyle</td>\n",
       "      <td>1</td>\n",
       "    </tr>\n",
       "  </tbody>\n",
       "</table>\n",
       "</div>"
      ],
      "text/plain": [
       "                         Words  Frequency\n",
       "0                       recipe          6\n",
       "1                       foodie          7\n",
       "2                      chicken          1\n",
       "3               chickenrecipes          1\n",
       "4                    chicken65          1\n",
       "5                chickendinner          1\n",
       "6                       mumbai          1\n",
       "7          chickensofinstagram          1\n",
       "8                   chickendry          1\n",
       "9                  sanjyotkeer          5\n",
       "10                    foodporn          9\n",
       "11                 foodstagram          4\n",
       "12             foodphotography          3\n",
       "13                 foodstylist          4\n",
       "14          foodiesofinstagram          4\n",
       "15                     recipes          1\n",
       "16                        food          2\n",
       "17                  streetfood          4\n",
       "18                mumbaifoodie          2\n",
       "19            mumbaistreetfood          1\n",
       "20                      indian          1\n",
       "21                  fusionfood          2\n",
       "22              streetsofindia          1\n",
       "23              MorphyRichards          1\n",
       "24  ultimatechristmaschallenge          1\n",
       "25                     frankie          1\n",
       "26                gajarkahalwa          2\n",
       "27                  gajarhalwa          2\n",
       "28              winteriscoming          2\n",
       "29                  winterfood          2\n",
       "30                     dessert          2\n",
       "31         dessertsofinstagram          2\n",
       "32                dessertlover          2\n",
       "33                     sizzler          1\n",
       "34               indiancuisine          1\n",
       "35           streetphotography          1\n",
       "36                 videography          1\n",
       "37                 foodblogger          1\n",
       "38              recipeoftheday          1\n",
       "39                    ricebowl          1\n",
       "40                 ricerecipes          1\n",
       "41                 streetstyle          1"
      ]
     },
     "execution_count": 45,
     "metadata": {},
     "output_type": "execute_result"
    }
   ],
   "source": [
    "frequency_of_words=[]\n",
    "words=[]\n",
    "for key,values in word_dic.items():\n",
    "    words.append(key)\n",
    "    frequency_of_words.append(values)\n",
    "frequency=np.array(frequency_of_words)\n",
    "asdf=np.array(words)\n",
    "df=pd.DataFrame()\n",
    "df['Words']=asdf\n",
    "df['Frequency']=frequency\n",
    "df.to_csv('Hashtags.csv')  \n",
    "df"
   ]
  },
  {
   "cell_type": "code",
   "execution_count": 46,
   "metadata": {},
   "outputs": [
    {
     "name": "stdout",
     "output_type": "stream",
     "text": [
      "Hashtags most popular\n",
      "\n",
      "foodporn 9\n",
      "foodie 7\n",
      "recipe 6\n",
      "sanjyotkeer 5\n",
      "foodstagram 4\n",
      "foodstylist 4\n",
      "foodiesofinstagram 4\n",
      "streetfood 4\n",
      "foodphotography 3\n",
      "food 2\n"
     ]
    }
   ],
   "source": [
    "# taking top 10 only \n",
    "sorted_hash=sorted(word_dic.items(), key=lambda kv:kv[1],reverse=True)[:10]\n",
    "print(\"Hashtags most popular\")\n",
    "print()\n",
    "a=[]\n",
    "b=[]\n",
    "for m in sorted_hash:\n",
    "    print(m[0],m[1])\n",
    "    a.append(m[0])\n",
    "    b.append(m[1])"
   ]
  },
  {
   "cell_type": "code",
   "execution_count": 47,
   "metadata": {},
   "outputs": [
    {
     "data": {
      "image/png": "[encoded data removed]",
      "text/plain": [
       "<Figure size 432x288 with 1 Axes>"
      ]
     },
     "metadata": {},
     "output_type": "display_data"
    }
   ],
   "source": [
    "from matplotlib.pyplot import figure\n",
    "plt.figure(num=None)\n",
    "x=a[:5]\n",
    "y=b[:5]\n",
    "plt.pie(y, labels=x, autopct='%.2f%%', shadow=True, labeldistance=1.2)\n",
    "plt.title('Pie Chart of the top 5 hashtags ')\n",
    "plt.show()\n"
   ]
  },
  {
   "cell_type": "code",
   "execution_count": null,
   "metadata": {},
   "outputs": [],
   "source": [
    "#check famous5=['foodgod', 'yourfoodlab', 'foodrush.recipe', 'dilsefoodie', 'foodtalkindia']\n"
   ]
  },
  {
   "cell_type": "code",
   "execution_count": 49,
   "metadata": {},
   "outputs": [
    {
     "name": "stdout",
     "output_type": "stream",
     "text": [
      "...... yourfoodlab\n",
      "post_data 12\n",
      "image likes 29685\n",
      "video likes 27781\n",
      "image likes 35716\n",
      "image likes 32446\n",
      "video likes 45122\n",
      "image likes 55034\n",
      "video likes 45502\n",
      "video likes 23716\n",
      "image likes 19961\n",
      "video likes 20128\n",
      "yourfoodlab ----- 335091 on first 10 posts\n",
      "...... foodtalkindia\n",
      "post_data 12\n",
      "image likes 667\n",
      "image likes 245\n",
      "video likes 238\n",
      "image likes 433\n",
      "video likes 93\n",
      "image likes 352\n",
      "image likes 639\n",
      "video likes 145\n",
      "image likes 772\n",
      "image likes 640\n",
      "foodtalkindia ----- 4224 on first 10 posts\n",
      "...... delhifoodwalks\n",
      "post_data 12\n",
      "image likes 515\n",
      "video likes 229\n",
      "image likes 1101\n",
      "image likes 1374\n",
      "image likes 186\n",
      "image likes 397\n",
      "image likes 776\n",
      "image likes 1737\n",
      "image likes 1215\n",
      "video likes 652\n",
      "delhifoodwalks ----- 8182 on first 10 posts\n",
      "...... food_gambler\n",
      "post_data 12\n",
      "image likes 1660\n",
      "image likes 906\n",
      "image likes 1178\n",
      "image likes 1889\n",
      "image likes 618\n",
      "image likes 1144\n",
      "image likes 3672\n",
      "image likes 461\n",
      "image likes 2712\n",
      "image likes 13176\n",
      "food_gambler ----- 27416 on first 10 posts\n",
      "...... delhifoodguide\n",
      "post_data 12\n",
      "image likes 1182\n",
      "image likes 963\n",
      "image likes 1836\n",
      "image likes 1188\n",
      "image likes 1907\n",
      "image likes 1196\n",
      "image likes 1199\n",
      "image likes 951\n",
      "image likes 914\n",
      "image likes 619\n",
      "delhifoodguide ----- 11955 on first 10 posts\n"
     ]
    },
    {
     "data": {
      "text/plain": [
       "11955"
      ]
     },
     "execution_count": 49,
     "metadata": {},
     "output_type": "execute_result"
    }
   ],
   "source": [
    "like_count=[]\n",
    "for i in famous5:\n",
    "    first_run = True\n",
    "    driver.get('https://www.instagram.com/')\n",
    "    time.sleep(4)\n",
    "    search_click=driver.find_element_by_class_name('TqC_a')\n",
    "    search_click.click()\n",
    "    time.sleep(2)\n",
    "    search=driver.find_element_by_class_name('x3qfX')\n",
    "    print('......', i)\n",
    "    search.send_keys(i)\n",
    "    time.sleep(5)\n",
    "    driver.execute_script('document.getElementsByClassName(\"fuqBx\")[0].scrollTo(0, 50);')\n",
    "    so=driver.find_element_by_partial_link_text(i)\n",
    "    so.click()\n",
    "    time.sleep(3)\n",
    "    count=0\n",
    "    post_count = 0\n",
    "    \n",
    "    time.sleep(3)\n",
    "    post_data = driver.find_elements_by_xpath('//a/div[@class=\"eLAPa\"]')\n",
    "    print('post_data', len(post_data))\n",
    "    for j in post_data:\n",
    "        post_count += 1\n",
    "        if post_count > 10:\n",
    "            break\n",
    "        time.sleep(7)\n",
    "        if first_run:    \n",
    "            j.click()\n",
    "            first_run = False\n",
    "        like_view = wait.until(EC.presence_of_element_located((By.XPATH,\"//div[@class='eo2As ']/section[2]\")))\n",
    "        if \"views\" in like_view.text:\n",
    "            button = wait.until(EC.presence_of_element_located((By.XPATH,\"//div[@class='eo2As ']/section[2]/div/span\")))\n",
    "            button.click()                \n",
    "            video_likes = wait.until(EC.presence_of_element_located((By.XPATH,\"//div[@class='eo2As ']/section[2]/div/div/div[4]/span\")))\n",
    "            video_like = int(video_likes.text.replace(',','').strip())\n",
    "            print('video likes', video_like)\n",
    "            count += video_like\n",
    "            time.sleep(3)\n",
    "            button = wait.until(EC.presence_of_element_located((By.XPATH,\"//div[@class='zZYga']\")))\n",
    "            button.click()\n",
    "            time.sleep(3)\n",
    "        else:\n",
    "            likes = wait.until(EC.presence_of_element_located((By.XPATH,\"//div[@class='Nm9Fw']/button/span\")))\n",
    "            like = int(likes.text.replace(',','').strip())\n",
    "            print('image likes', like)\n",
    "            count += like\n",
    "        time.sleep(3)\n",
    "        next_post=driver.find_element_by_xpath('//a[contains(@class,\"_65Bje \")]')\n",
    "        time.sleep(3)\n",
    "        next_post.click()\n",
    "    print(i, '-----', count, 'on first 10 posts')\n",
    "    like_count.append(count)\n",
    "count"
   ]
  },
  {
   "cell_type": "code",
   "execution_count": 24,
   "metadata": {},
   "outputs": [
    {
     "name": "stdout",
     "output_type": "stream",
     "text": [
      "[1508351  303116  130926  107766  104031]\n",
      "[334205   4219   8179  27316  11955]\n"
     ]
    }
   ],
   "source": [
    "\n",
    "npfollowers=np.array(famous5follow)\n",
    "print(npfollowers)\n",
    "nplikes=np.array(like_count)\n",
    "print(nplikes)"
   ]
  },
  {
   "cell_type": "code",
   "execution_count": 25,
   "metadata": {},
   "outputs": [
    {
     "data": {
      "text/plain": [
       "array([33420.5,   421.9,   817.9,  2731.6,  1195.5])"
      ]
     },
     "execution_count": 25,
     "metadata": {},
     "output_type": "execute_result"
    }
   ],
   "source": [
    "average_likes=nplikes/10\n",
    "average_likes"
   ]
  },
  {
   "cell_type": "code",
   "execution_count": 26,
   "metadata": {},
   "outputs": [
    {
     "data": {
      "text/plain": [
       "array([ 45.13250849, 718.4546101 , 160.07580389,  39.45160346,\n",
       "        87.01882058])"
      ]
     },
     "execution_count": 26,
     "metadata": {},
     "output_type": "execute_result"
    }
   ],
   "source": [
    "ratio=npfollowers/average_likes\n",
    "ratio"
   ]
  },
  {
   "cell_type": "code",
   "execution_count": 32,
   "metadata": {},
   "outputs": [
    {
     "data": {
      "image/png": "[encoded data removed]",
      "text/plain": [
       "<Figure size 432x288 with 1 Axes>"
      ]
     },
     "metadata": {
      "needs_background": "light"
     },
     "output_type": "display_data"
    }
   ],
   "source": [
    "\n",
    "plt.bar(famous5, ratio, color='yellow')\n",
    "plt.xticks(rotation=45)\n",
    "plt.xlabel('Users')\n",
    "plt.ylabel('Average ratio')\n",
    "\n",
    "plt.show()"
   ]
  },
  {
   "cell_type": "code",
   "execution_count": null,
   "metadata": {},
   "outputs": [],
   "source": []
  }
 ],
 "metadata": {
  "kernelspec": {
   "display_name": "Python 3",
   "language": "python",
   "name": "python3"
  },
  "language_info": {
   "codemirror_mode": {
    "name": "ipython",
    "version": 3
   },
   "file_extension": ".py",
   "mimetype": "text/x-python",
   "name": "python",
   "nbconvert_exporter": "python",
   "pygments_lexer": "ipython3",
   "version": "3.8.5"
  }
 },
 "nbformat": 4,
 "nbformat_minor": 4
}
